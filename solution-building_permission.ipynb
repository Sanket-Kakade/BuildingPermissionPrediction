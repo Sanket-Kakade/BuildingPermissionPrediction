{
 "cells": [
  {
   "cell_type": "code",
   "execution_count": 1,
   "metadata": {
    "colab": {
     "base_uri": "https://localhost:8080/",
     "height": 156
    },
    "colab_type": "code",
    "executionInfo": {
     "elapsed": 10990,
     "status": "ok",
     "timestamp": 1539655090436,
     "user": {
      "displayName": "sanket kakade",
      "photoUrl": "",
      "userId": "11282238036054339420"
     },
     "user_tz": -330
    },
    "id": "5JUMR_ReRgyL",
    "outputId": "77c7c8cb-2912-446b-aa30-b9bdbb573479"
   },
   "outputs": [
    {
     "name": "stdout",
     "output_type": "stream",
     "text": [
      "[nltk_data] Downloading package stopwords to\n",
      "[nltk_data]     C:\\Users\\Admin\\AppData\\Roaming\\nltk_data...\n",
      "[nltk_data]   Package stopwords is already up-to-date!\n",
      "[nltk_data] Downloading package punkt to\n",
      "[nltk_data]     C:\\Users\\Admin\\AppData\\Roaming\\nltk_data...\n",
      "[nltk_data]   Package punkt is already up-to-date!\n"
     ]
    },
    {
     "name": "stderr",
     "output_type": "stream",
     "text": [
      "C:\\Users\\Admin\\Anaconda2\\envs\\python36\\lib\\site-packages\\sklearn\\cross_validation.py:41: DeprecationWarning: This module was deprecated in version 0.18 in favor of the model_selection module into which all the refactored classes and functions are moved. Also note that the interface of the new CV iterators are different from that of this module. This module will be removed in 0.20.\n",
      "  \"This module will be removed in 0.20.\", DeprecationWarning)\n",
      "C:\\Users\\Admin\\Anaconda2\\envs\\python36\\lib\\site-packages\\sklearn\\ensemble\\weight_boosting.py:29: DeprecationWarning: numpy.core.umath_tests is an internal NumPy module and should not be imported. It will be removed in a future NumPy release.\n",
      "  from numpy.core.umath_tests import inner1d\n"
     ]
    }
   ],
   "source": [
    "import pandas as pd\n",
    "# from google.colab import drive\n",
    "# drive.mount('/content/drive')\n",
    "import numpy as np\n",
    "import pandas as pd\n",
    "import scipy\n",
    "import nltk\n",
    "import os\n",
    "nltk.download('stopwords')\n",
    "nltk.download('punkt')\n",
    "from sklearn.cross_validation import train_test_split\n",
    "from nltk.tokenize import RegexpTokenizer\n",
    "from nltk.corpus import stopwords \n",
    "from sklearn.metrics import f1_score\n",
    "\n",
    "from sklearn.tree import DecisionTreeClassifier\n",
    "from sklearn.tree import ExtraTreeClassifier\n",
    "from sklearn.ensemble import RandomForestClassifier\n",
    "\n",
    "from lightgbm import LGBMClassifier\n",
    "import xgboost as xgb\n",
    "from xgboost import XGBClassifier\n",
    "\n",
    "from sklearn.neighbors import KNeighborsClassifier\n",
    "from sklearn.model_selection import RandomizedSearchCV, GridSearchCV\n",
    "from sklearn.model_selection import StratifiedKFold\n",
    "\n",
    "\n",
    "stop_words = set(stopwords.words('english')) \n",
    "stop_words= list(stop_words)+['per','existing','plan']\n"
   ]
  },
  {
   "cell_type": "code",
   "execution_count": 0,
   "metadata": {
    "colab": {},
    "colab_type": "code",
    "id": "TnG9GzDwFiib"
   },
   "outputs": [],
   "source": []
  },
  {
   "cell_type": "code",
   "execution_count": 21,
   "metadata": {
    "colab": {},
    "colab_type": "code",
    "id": "IYdaq4AvRpG5"
   },
   "outputs": [],
   "source": [
    "#data=pd.read_csv()\n",
    "# data = pd.read_csv('/content/drive/My Drive/train_file.csv')\n",
    "# data_test = pd.read_csv('/content/drive/My Drive/test_file.csv')\n",
    "path = \"C:\\\\Users\\\\Admin\\\\Desktop\\\\New_folder\"\n",
    "data_folder = \"\\\\dataset\"\n",
    "os.chdir(path+data_folder)\n",
    "data = pd.read_csv(path+data_folder+'\\\\train_file.csv')\n",
    "data_test =pd.read_csv(path+data_folder+'\\\\test_file.csv')\n",
    "#!ls \"/content/drive/My Drive\""
   ]
  },
  {
   "cell_type": "code",
   "execution_count": 22,
   "metadata": {
    "colab": {},
    "colab_type": "code",
    "id": "cqLrZyS3sU3y"
   },
   "outputs": [],
   "source": [
    "data.isnull().sum() #checking the null values in train dataset\n",
    "data = data.dropna(subset=['Permit Type','Action Type','Work Type','Latitude','Longitude','Status','Description'])\n"
   ]
  },
  {
   "cell_type": "markdown",
   "metadata": {
    "colab_type": "text",
    "id": "nhfwyKrv5TS3"
   },
   "source": [
    "Since most of the feature variables are categorical, We will apply chi-square test to assess the dependence between the features and the output variables"
   ]
  },
  {
   "cell_type": "code",
   "execution_count": 23,
   "metadata": {
    "colab": {},
    "colab_type": "code",
    "id": "G8SdEzwC5GkP"
   },
   "outputs": [
    {
     "name": "stdout",
     "output_type": "stream",
     "text": [
      "Dependent (reject H0)\n",
      "Dependent (reject H0)\n",
      "Dependent (reject H0)\n",
      "Dependent (reject H0)\n",
      "Dependent (reject H0)\n"
     ]
    }
   ],
   "source": [
    "\n",
    "x1=scipy.stats.chisquare(data['Permit Type'].value_counts())\n",
    "y=scipy.stats.chisquare(data['Category'].value_counts())\n",
    "cont= pd.crosstab(data['Permit Type'],data['Category'])\n",
    "stat, p, dof, expected =scipy.stats.chi2_contingency(cont)\n",
    "if p <= 0.05:\n",
    "\tprint('Dependent (reject H0)')\n",
    "else:\n",
    "\tprint('Independent (fail to reject H0)')\n",
    "\n",
    "x2=scipy.stats.chisquare(data['Action Type'].value_counts())\n",
    "y=scipy.stats.chisquare(data['Category'].value_counts())\n",
    "cont= pd.crosstab(data['Action Type'],data['Category'])\n",
    "stat, p, dof, expected =scipy.stats.chi2_contingency(cont)\n",
    "if p <= 0.05:\n",
    "\tprint('Dependent (reject H0)')\n",
    "else:\n",
    "\tprint('Independent (fail to reject H0)')\n",
    "#%%\n",
    "x3=scipy.stats.chisquare(data['Work Type'].value_counts())\n",
    "y=scipy.stats.chisquare(data['Category'].value_counts())\n",
    "cont= pd.crosstab(data['Work Type'],data['Category'])\n",
    "stat, p, dof, expected =scipy.stats.chi2_contingency(cont)\n",
    "if p <= 0.05:\n",
    "\tprint('Dependent (reject H0)')\n",
    "else:\n",
    "\tprint('Independent (fail to reject H0)')\n",
    "#%%\n",
    "x4=scipy.stats.chisquare(data['Status'].value_counts())\n",
    "y=scipy.stats.chisquare(data['Category'].value_counts())\n",
    "cont= pd.crosstab(data['Status'],data['Category'])\n",
    "stat, p, dof, expected =scipy.stats.chi2_contingency(cont)\n",
    "if p <= 0.05:\n",
    "\tprint('Dependent (reject H0)')\n",
    "else:\n",
    "\tprint('Independent (fail to reject H0)')\n",
    "#%%\n",
    "x5=scipy.stats.chisquare(data['Contractor'].value_counts())\n",
    "y=scipy.stats.chisquare(data['Category'].value_counts())\n",
    "cont= pd.crosstab(data['Contractor'],data['Category'])\n",
    "stat, p, dof, expected =scipy.stats.chi2_contingency(cont)\n",
    "if p <= 0.05:\n",
    "\tprint('Dependent (reject H0)')\n",
    "else:\n",
    "\tprint('Independent (fail to reject H0)')"
   ]
  },
  {
   "cell_type": "code",
   "execution_count": 24,
   "metadata": {
    "colab": {},
    "colab_type": "code",
    "id": "wgcqSKlEtZwW"
   },
   "outputs": [],
   "source": [
    "# We saw that the columns - 'Permit Type', 'Action Type','Work Type','Status' are important. We can convert them to numeric using get_dummies function in pandas. \n",
    "df=pd.get_dummies(data, columns= ['Permit Type', 'Action Type','Work Type','Status'])\n",
    "data['Master Use Permit2']=data['Master Use Permit']\n",
    "data['Master Use Permit2'].fillna(0, inplace=True)\n",
    "data.loc[data['Master Use Permit2'] != 0, 'Master Use Permit2'] = 1\n",
    "df['Master Use Permit']= data['Master Use Permit2']\n",
    "df.drop(['Application Date','Issue Date','Final Date','Expiration Date','Application/Permit Number',\n",
    "      'Address','Applicant Name','Permit and Complaint Status URL','Location','Contractor','Description'],axis=1, inplace=True)\n",
    "#on test\n",
    "df_test= pd.get_dummies(data_test, columns= ['Permit Type', 'Action Type','Work Type','Status'])\n",
    "data_test['Master Use Permit2']=data_test['Master Use Permit']\n",
    "data_test['Master Use Permit2'].fillna(0, inplace=True)\n",
    "data_test.loc[data_test['Master Use Permit2'] != 0, 'Master Use Permit2'] = 1\n",
    "df_test['Master Use Permit']= data_test['Master Use Permit2']\n",
    "df_test.drop(['Application Date','Issue Date','Final Date','Expiration Date','Application/Permit Number',\n",
    "      'Address','Applicant Name','Permit and Complaint Status URL','Location','Contractor','Description'],axis=1, inplace=True)\n",
    "\n",
    "#We dropeed the unnecessary columns from both train and test. "
   ]
  },
  {
   "cell_type": "code",
   "execution_count": 25,
   "metadata": {
    "colab": {
     "base_uri": "https://localhost:8080/",
     "height": 51
    },
    "colab_type": "code",
    "executionInfo": {
     "elapsed": 1989,
     "status": "ok",
     "timestamp": 1539655183860,
     "user": {
      "displayName": "sanket kakade",
      "photoUrl": "",
      "userId": "11282238036054339420"
     },
     "user_tz": -330
    },
    "id": "gEZ76295Glkt",
    "outputId": "66d40117-1717-43d6-b095-c386bacef131"
   },
   "outputs": [
    {
     "name": "stdout",
     "output_type": "stream",
     "text": [
      "(31551, 36)\n",
      "(22360, 35)\n"
     ]
    }
   ],
   "source": [
    "print (df.shape)\n",
    "print (df_test.shape)\n",
    "#Becasue we can't drop the columns in test, we impute them using their corresponding means. \n",
    "df_test['Latitude'].fillna(value= np.mean(df_test['Latitude']), inplace=True)\n",
    "df_test['Longitude'].fillna(value= np.mean(df_test['Longitude']),inplace=True)\n"
   ]
  },
  {
   "cell_type": "code",
   "execution_count": 26,
   "metadata": {
    "colab": {
     "base_uri": "https://localhost:8080/",
     "height": 629
    },
    "colab_type": "code",
    "executionInfo": {
     "elapsed": 2282,
     "status": "ok",
     "timestamp": 1539655186580,
     "user": {
      "displayName": "sanket kakade",
      "photoUrl": "",
      "userId": "11282238036054339420"
     },
     "user_tz": -330
    },
    "id": "sgyVJ4cFLuhU",
    "outputId": "0fbfe11a-eee8-4abc-b312-1dfdea37d788"
   },
   "outputs": [
    {
     "data": {
      "text/plain": [
       "Master Use Permit                            0\n",
       "Latitude                                     0\n",
       "Longitude                                    0\n",
       "Permit Type_Construction                     0\n",
       "Permit Type_Demolition                       0\n",
       "Permit Type_Site Development                 0\n",
       "Action Type_ADD/ALT                          0\n",
       "Action Type_ALTER                            0\n",
       "Action Type_CURB CUT                         0\n",
       "Action Type_DECONSTRUCTION                   0\n",
       "Action Type_DEMOLITION                       0\n",
       "Action Type_DRAINAGE APPROVAL                0\n",
       "Action Type_GRADING                          0\n",
       "Action Type_NEW                              0\n",
       "Action Type_NO CONSTRUCTION                  0\n",
       "Action Type_RELOCATION                       0\n",
       "Action Type_SHORELINE EXEMPTION ONLY         0\n",
       "Action Type_SITE MONITORING ONLY             0\n",
       "Action Type_TEMP                             0\n",
       "Action Type_TREE PROTECTION EXEMPTION        0\n",
       "Action Type_TREE/VEGETATION MAINT/RESTORE    0\n",
       "Work Type_No plan review                     0\n",
       "Work Type_Plan Review                        0\n",
       "Status_AP Closed                             0\n",
       "Status_AP Finaled                            0\n",
       "Status_Application Accepted                  0\n",
       "Status_CANCELLED                             0\n",
       "Status_Cert of Occupancy Authorized          0\n",
       "Status_Information Collected                 0\n",
       "Status_Initial Information Collected         0\n",
       "Status_Inspections Added                     0\n",
       "Status_Permit Closed                         0\n",
       "Status_Permit Finaled                        0\n",
       "Status_Permit Issued                         0\n",
       "Status_Reviews Completed                     0\n",
       "dtype: int64"
      ]
     },
     "execution_count": 26,
     "metadata": {},
     "output_type": "execute_result"
    }
   ],
   "source": [
    "#checking the null values in test dataset .\n",
    "df_test.isnull().sum()"
   ]
  },
  {
   "cell_type": "markdown",
   "metadata": {
    "colab_type": "text",
    "id": "XfjQLoqsxyer"
   },
   "source": [
    "In few of the below block of codes, I have tried including the 'Description' column for prediction. I have used HashingVectorizer to extract useful features from that text and have build some basic models with them. I have reoeated the same procedure excluding the 'Description' column. The results are slightly better for the latter method. Hence it was decided to drop off the 'Description' feature for the final model building. \n",
    "These blocks have **Code including** '**Description**'  headline on them for reference. \n"
   ]
  },
  {
   "cell_type": "code",
   "execution_count": 7,
   "metadata": {
    "colab": {
     "base_uri": "https://localhost:8080/",
     "height": 34
    },
    "colab_type": "code",
    "executionInfo": {
     "elapsed": 14377,
     "status": "ok",
     "timestamp": 1539617397146,
     "user": {
      "displayName": "sanket kakade",
      "photoUrl": "",
      "userId": "11282238036054339420"
     },
     "user_tz": -330
    },
    "id": "sLtXPGpSuPeu",
    "outputId": "67056984-9a70-4071-83d0-a720a3371ae8"
   },
   "outputs": [
    {
     "name": "stdout",
     "output_type": "stream",
     "text": [
      "(31551, 10)\n"
     ]
    }
   ],
   "source": [
    "#Code including 'Description'\n",
    "#In order to extract useful information from 'description' column, we are using HashingVectorizer to convert the text into useful vectors. \n",
    "#One of the adv of hashing method has is we can control the number of features we want at the end. I have kept it as 10. \n",
    "#Which I will further reduce by applying PCA. \n",
    "#from sklearn.feature_extraction.text import HashingVectorizer\n",
    "#text = data['Description']\n",
    "#text_test= data_test['Description']\n",
    "#text_test.fillna('No Description Available', inplace=True)\n",
    "##total_test= text.append(text_test, ignore_index= True)\n",
    "#\n",
    "#vectorizer = HashingVectorizer(n_features=10,strip_accents = 'unicode',decode_error ='ignore'\n",
    "#                ,analyzer='word',stop_words=stop_words, token_pattern=r'\\w+', norm='l1', ngram_range=(2,3),\n",
    "#                 tokenizer= nltk.tokenize.word_tokenize)\n",
    "## encode document\n",
    "#vector = vectorizer.transform(text)\n",
    "#vector_test = vectorizer.transform(text_test)\n",
    "#\n",
    "## summarize encoded vector\n",
    "#print(vector.shape)\n",
    "#vector_ar= vector.toarray()\n",
    "#vector_ar= np.array(vector_ar)\n",
    "#vector_test_ar= vector_test.toarray()\n",
    "#vector_test_ar= np.array(vector_test_ar)\n"
   ]
  },
  {
   "cell_type": "code",
   "execution_count": 0,
   "metadata": {
    "colab": {},
    "colab_type": "code",
    "id": "Fw1mNmlTFiGt"
   },
   "outputs": [],
   "source": [
    "##Code including 'Description'\n",
    "#from sklearn.decomposition import PCA\n",
    "#pca = PCA().fit(vector_ar)\n",
    "#import matplotlib.pyplot as plt\n",
    "#plt.plot(np.cumsum(pca.explained_variance_ratio_))\n",
    "#plt.xlabel('number of components')\n",
    "#plt.ylabel('cumulative explained variance')\n",
    "#plt.grid(True)\n",
    "#plt.show()\n"
   ]
  },
  {
   "cell_type": "code",
   "execution_count": 0,
   "metadata": {
    "colab": {},
    "colab_type": "code",
    "id": "qHonVfA4OUv6"
   },
   "outputs": [],
   "source": [
    "#Code including 'Description'\n",
    "#Taking 6 component we can capture ~ 75% of the variance\n",
    "#pca = PCA(n_components=6)\n",
    "#pca.fit(vector_ar)\n",
    "#train_text_pca= pca.transform(vector_ar)\n",
    "#test_text_pca= pca.transform(vector_test_ar)\n"
   ]
  },
  {
   "cell_type": "code",
   "execution_count": 0,
   "metadata": {
    "colab": {},
    "colab_type": "code",
    "id": "V6UHKbsOMF5c"
   },
   "outputs": [],
   "source": [
    "#Code including 'Description'\n",
    "#print (train_text_pca.shape)\n",
    "#print (test_text_pca.shape)"
   ]
  },
  {
   "cell_type": "code",
   "execution_count": 0,
   "metadata": {
    "colab": {},
    "colab_type": "code",
    "id": "a4fPlgH3QP62"
   },
   "outputs": [],
   "source": []
  },
  {
   "cell_type": "code",
   "execution_count": 27,
   "metadata": {
    "colab": {
     "base_uri": "https://localhost:8080/",
     "height": 361
    },
    "colab_type": "code",
    "executionInfo": {
     "elapsed": 2954,
     "status": "ok",
     "timestamp": 1539655201299,
     "user": {
      "displayName": "sanket kakade",
      "photoUrl": "",
      "userId": "11282238036054339420"
     },
     "user_tz": -330
    },
    "id": "TdYt0rFSUb6E",
    "outputId": "1d4f157b-ad6d-4c70-da4c-aa60c4ed0dfa"
   },
   "outputs": [
    {
     "data": {
      "image/png": "[encoded data removed]",
      "text/plain": [
       "<Figure size 432x288 with 1 Axes>"
      ]
     },
     "metadata": {},
     "output_type": "display_data"
    }
   ],
   "source": [
    "#There are total 35 feature vectors in the train dataset and most of them are sparse. Hence we can apply PCA on \n",
    "#these features separately to get the features which catch maximum variance. \n",
    "from sklearn.decomposition import PCA\n",
    "df_x=df.drop(['Category'],axis=1)\n",
    "df_y= df['Category']\n",
    "df_ar_x= np.array(df_x)\n",
    "pca_2 = PCA().fit(df_ar_x)\n",
    "import matplotlib.pyplot as plt\n",
    "plt.plot(np.cumsum(pca_2.explained_variance_ratio_))\n",
    "plt.xlabel('number of components')\n",
    "plt.ylabel('cumulative explained variance')\n",
    "plt.grid(True)\n",
    "plt.show()\n"
   ]
  },
  {
   "cell_type": "code",
   "execution_count": 28,
   "metadata": {
    "colab": {},
    "colab_type": "code",
    "id": "YE0C9xNjY84g"
   },
   "outputs": [],
   "source": [
    "#Total of 10 features will give us more than 90% variance. \n",
    "pca_2 = PCA(n_components=10)\n",
    "pca_2.fit(df_ar_x)\n",
    "df_x_pca= pca_2.transform(df_ar_x)\n",
    "df_test_pca= pca_2.transform(df_test)"
   ]
  },
  {
   "cell_type": "code",
   "execution_count": 29,
   "metadata": {
    "colab": {},
    "colab_type": "code",
    "id": "VhWTPnVZgt-z"
   },
   "outputs": [],
   "source": [
    "y = df_y.map({'SINGLE FAMILY / DUPLEX':1,\n",
    "'COMMERCIAL':2,\n",
    "'INSTITUTIONAL':3,\n",
    "'MULTIFAMILY':4,\n",
    "'INDUSTRIAL':5})\n",
    "\n"
   ]
  },
  {
   "cell_type": "code",
   "execution_count": 0,
   "metadata": {
    "colab": {},
    "colab_type": "code",
    "id": "HaMrOZXdVrU1"
   },
   "outputs": [],
   "source": [
    "#Code including 'Description'\n",
    "#print (df_x_pca.shape)\n",
    "#print (train_text_pca.shape)"
   ]
  },
  {
   "cell_type": "code",
   "execution_count": 0,
   "metadata": {
    "colab": {},
    "colab_type": "code",
    "id": "DKgpTujrVrVE"
   },
   "outputs": [],
   "source": [
    "#Code including 'Description'\n",
    "#Concatenating the features we got from 'Description' column and the rest of the columns\n",
    "#x=np.concatenate((df_x_pca, train_text_pca), axis=1)\n",
    "#x_test_set= np.concatenate((df_test_pca, test_text_pca), axis=1)"
   ]
  },
  {
   "cell_type": "code",
   "execution_count": 0,
   "metadata": {
    "colab": {},
    "colab_type": "code",
    "id": "l5wHUH7KVrVh"
   },
   "outputs": [],
   "source": [
    "#Code including 'Description'\n",
    "#X_train, X_test, Y_train, Y_test = train_test_split(x,y, test_size= 0.1)\n",
    "##Let us apply some basic algorithms with default hyperparameters and check their performance. \n",
    "#from sklearn.naive_bayes import GaussianNB\n",
    "#from sklearn.linear_model import LogisticRegression\n",
    "#from sklearn.neighbors import KNeighborsClassifier\n",
    "#from sklearn.svm import SVC\n",
    "#from sklearn.tree import DecisionTreeClassifier\n",
    "#from sklearn.discriminant_analysis import LinearDiscriminantAnalysis\n",
    "#from sklearn.ensemble import RandomForestClassifier, AdaBoostClassifier\n",
    "#from sklearn.neural_network import MLPClassifier\n",
    "#\n",
    "#models_text = []\n",
    "#models.append(('Logistic Regression', LogisticRegression()))\n",
    "#models.append(('Naive Bayes', GaussianNB()))\n",
    "#models.append(('Decision Tree (CART)',DecisionTreeClassifier())) \n",
    "#models.append(('K-NN', KNeighborsClassifier()))\n",
    "#models.append(('AdaBoostClassifier', AdaBoostClassifier()))\n",
    "#models.append(('RandomForestClassifier', RandomForestClassifier()))\n",
    "#models.append(('XGBClassifier', XGBClassifier()))\n",
    "#\n",
    "#\n",
    "#f1_text={}\n",
    "#for name, model in models:\n",
    "#    model = model.fit(X_train, Y_train)\n",
    "#    y_pred = model.predict(X_test)\n",
    "#    score=f1_score(Y_test,y_pred, average='weighted')\n",
    "#    f1_text[name]= score"
   ]
  },
  {
   "cell_type": "code",
   "execution_count": 0,
   "metadata": {
    "colab": {},
    "colab_type": "code",
    "id": "FEbZ41E8VrV5"
   },
   "outputs": [],
   "source": [
    "#Code including 'Description'\n",
    "#print (f1_text)"
   ]
  },
  {
   "cell_type": "code",
   "execution_count": 30,
   "metadata": {
    "colab": {
     "base_uri": "https://localhost:8080/",
     "height": 85
    },
    "colab_type": "code",
    "executionInfo": {
     "elapsed": 1116,
     "status": "ok",
     "timestamp": 1539655222051,
     "user": {
      "displayName": "sanket kakade",
      "photoUrl": "",
      "userId": "11282238036054339420"
     },
     "user_tz": -330
    },
    "id": "9u1S7PPT8zB0",
    "outputId": "90d5c9ba-831d-4dbb-f54d-07596c2fc734"
   },
   "outputs": [
    {
     "name": "stdout",
     "output_type": "stream",
     "text": [
      "(28395, 10)\n",
      "(3156, 10)\n",
      "(28395,)\n",
      "(3156,)\n"
     ]
    }
   ],
   "source": [
    "# Splitting train-test dataset. Ratio is kept at 90-10. \n",
    "X_train, X_test, Y_train, Y_test = train_test_split(df_x_pca,y, test_size= 0.1)\n",
    "print (X_train.shape)\n",
    "print (X_test.shape)\n",
    "print (Y_train.shape)\n",
    "print (Y_test.shape)"
   ]
  },
  {
   "cell_type": "code",
   "execution_count": 31,
   "metadata": {
    "colab": {},
    "colab_type": "code",
    "id": "8wJDDheMDrvn"
   },
   "outputs": [
    {
     "name": "stderr",
     "output_type": "stream",
     "text": [
      "C:\\Users\\Admin\\Anaconda2\\envs\\python36\\lib\\site-packages\\sklearn\\metrics\\classification.py:1135: UndefinedMetricWarning: F-score is ill-defined and being set to 0.0 in labels with no predicted samples.\n",
      "  'precision', 'predicted', average, warn_for)\n",
      "C:\\Users\\Admin\\Anaconda2\\envs\\python36\\lib\\site-packages\\sklearn\\metrics\\classification.py:1135: UndefinedMetricWarning: F-score is ill-defined and being set to 0.0 in labels with no predicted samples.\n",
      "  'precision', 'predicted', average, warn_for)\n",
      "C:\\Users\\Admin\\Anaconda2\\envs\\python36\\lib\\site-packages\\sklearn\\preprocessing\\label.py:151: DeprecationWarning: The truth value of an empty array is ambiguous. Returning False, but in future this will result in an error. Use `array.size > 0` to check that an array is not empty.\n",
      "  if diff:\n",
      "C:\\Users\\Admin\\Anaconda2\\envs\\python36\\lib\\site-packages\\sklearn\\metrics\\classification.py:1135: UndefinedMetricWarning: F-score is ill-defined and being set to 0.0 in labels with no predicted samples.\n",
      "  'precision', 'predicted', average, warn_for)\n"
     ]
    }
   ],
   "source": [
    "#Let us apply some basic algorithms with default hyperparameters and check their performance. \n",
    "from sklearn.naive_bayes import GaussianNB\n",
    "from sklearn.linear_model import LogisticRegression\n",
    "from sklearn.neighbors import KNeighborsClassifier\n",
    "from sklearn.svm import SVC\n",
    "from sklearn.tree import DecisionTreeClassifier\n",
    "from sklearn.discriminant_analysis import LinearDiscriminantAnalysis\n",
    "from sklearn.ensemble import RandomForestClassifier, AdaBoostClassifier\n",
    "from sklearn.neural_network import MLPClassifier\n",
    "\n",
    "models = []\n",
    "models.append(('Logistic Regression', LogisticRegression()))\n",
    "models.append(('Naive Bayes', GaussianNB()))\n",
    "models.append(('Decision Tree (CART)',DecisionTreeClassifier())) \n",
    "models.append(('K-NN', KNeighborsClassifier()))\n",
    "models.append(('AdaBoostClassifier', AdaBoostClassifier()))\n",
    "models.append(('RandomForestClassifier', RandomForestClassifier()))\n",
    "models.append(('XGBClassifier', XGBClassifier()))\n",
    "\n",
    "\n",
    "f1={}\n",
    "for name, model in models:\n",
    "    model = model.fit(X_train, Y_train)\n",
    "    y_pred = model.predict(X_test)\n",
    "    score=f1_score(Y_test,y_pred, average='weighted')\n",
    "    f1[name]= score"
   ]
  },
  {
   "cell_type": "code",
   "execution_count": 19,
   "metadata": {
    "colab": {},
    "colab_type": "code",
    "id": "S1X0KxsdI6RA"
   },
   "outputs": [
    {
     "name": "stdout",
     "output_type": "stream",
     "text": [
      "{'Logistic Regression': 0.5391194304075346, 'Naive Bayes': 0.5187992490960537, 'Decision Tree (CART)': 0.7459757818194588, 'K-NN': 0.7360183232501272, 'AdaBoostClassifier': 0.5935296355191797, 'RandomForestClassifier': 0.7740585196239315, 'XGBClassifier': 0.6483495064424986}\n"
     ]
    }
   ],
   "source": [
    "print (f1)"
   ]
  },
  {
   "cell_type": "markdown",
   "metadata": {
    "colab_type": "text",
    "id": "FkJav9_n6HVW"
   },
   "source": [
    "We can see that the results are slightly better when we exclude the features obtained from 'Description' column. \n",
    "Hence we will go ahead with those features only ."
   ]
  },
  {
   "cell_type": "markdown",
   "metadata": {
    "colab_type": "text",
    "id": "pC5DNbmE6LiZ"
   },
   "source": [
    "We will choose random forrest and xgboost for further tuning and final prediction. "
   ]
  },
  {
   "cell_type": "code",
   "execution_count": 21,
   "metadata": {
    "colab": {},
    "colab_type": "code",
    "id": "ID48nrciVrXX"
   },
   "outputs": [
    {
     "name": "stderr",
     "output_type": "stream",
     "text": [
      "[Parallel(n_jobs=1)]: Done 1000 out of 1000 | elapsed:  5.3min finished\n",
      "[Parallel(n_jobs=1)]: Done 1000 out of 1000 | elapsed:    2.1s finished\n"
     ]
    }
   ],
   "source": [
    "ran_for = RandomForestClassifier(n_estimators= 1000, verbose=1, max_features= 7)\n",
    "ran_for = ran_for.fit(X_train, Y_train)\n",
    "\n",
    "    # predict\n",
    "ran_for_pred = ran_for.predict(X_test)\n",
    "    \n",
    "    # score\n",
    "ran_for_score = f1_score(Y_test, ran_for_pred, average='weighted')\n",
    "#ran_for_score= 0.7785164815102673 for 500 estimators and 8 max features\n",
    "#ran_for_score= 0.7886976094393479 for 1000 estimators and 7 max features"
   ]
  },
  {
   "cell_type": "code",
   "execution_count": 22,
   "metadata": {
    "colab": {
     "base_uri": "https://localhost:8080/",
     "height": 34
    },
    "colab_type": "code",
    "executionInfo": {
     "elapsed": 1316,
     "status": "ok",
     "timestamp": 1539626173311,
     "user": {
      "displayName": "sanket kakade",
      "photoUrl": "",
      "userId": "11282238036054339420"
     },
     "user_tz": -330
    },
    "id": "E_ekhMDMYC-k",
    "outputId": "0b6e9f63-45ec-46a5-ff67-04816fec9fe3"
   },
   "outputs": [
    {
     "data": {
      "text/plain": [
       "0.7861663672574308"
      ]
     },
     "execution_count": 22,
     "metadata": {},
     "output_type": "execute_result"
    }
   ],
   "source": [
    "ran_for_score"
   ]
  },
  {
   "cell_type": "code",
   "execution_count": 23,
   "metadata": {
    "colab": {
     "base_uri": "https://localhost:8080/",
     "height": 88
    },
    "colab_type": "code",
    "executionInfo": {
     "elapsed": 468507,
     "status": "ok",
     "timestamp": 1539621639500,
     "user": {
      "displayName": "sanket kakade",
      "photoUrl": "",
      "userId": "11282238036054339420"
     },
     "user_tz": -330
    },
    "id": "o6yFfbXHYmq-",
    "outputId": "a80eaadb-027f-4d18-c5dd-c64eccde7647"
   },
   "outputs": [
    {
     "name": "stderr",
     "output_type": "stream",
     "text": [
      "C:\\Users\\Admin\\Anaconda2\\envs\\python36\\lib\\site-packages\\sklearn\\preprocessing\\label.py:151: DeprecationWarning: The truth value of an empty array is ambiguous. Returning False, but in future this will result in an error. Use `array.size > 0` to check that an array is not empty.\n",
      "  if diff:\n"
     ]
    },
    {
     "data": {
      "text/plain": [
       "0.791816279716481"
      ]
     },
     "execution_count": 23,
     "metadata": {},
     "output_type": "execute_result"
    }
   ],
   "source": [
    "xgb = XGBClassifier(n_estimators=5000,min_child_weight= 1, learning_rate=0.12, objective='multi:softmax', max_depth =6,silent=True, nthread=1, n_jobs=-1)\n",
    "xgb.fit(X_train, Y_train,eval_metric= 'merror')\n",
    "pred= xgb.predict(X_test)\n",
    "f1_score(pred, Y_test, average='weighted')\n",
    "#0.7999791841749769\n",
    "\n"
   ]
  },
  {
   "cell_type": "code",
   "execution_count": 24,
   "metadata": {
    "colab": {},
    "colab_type": "code",
    "id": "4ESSByYj2awg"
   },
   "outputs": [
    {
     "name": "stderr",
     "output_type": "stream",
     "text": [
      "C:\\Users\\Admin\\Anaconda2\\envs\\python36\\lib\\site-packages\\sklearn\\preprocessing\\label.py:151: DeprecationWarning: The truth value of an empty array is ambiguous. Returning False, but in future this will result in an error. Use `array.size > 0` to check that an array is not empty.\n",
      "  if diff:\n"
     ]
    },
    {
     "data": {
      "text/plain": [
       "0.7884846150751172"
      ]
     },
     "execution_count": 24,
     "metadata": {},
     "output_type": "execute_result"
    }
   ],
   "source": [
    "#Another instance of XgBoost classifier with tweaked hyperparameters. \n",
    "xgb2 = XGBClassifier(n_estimators=10000,min_child_weight= 1, learning_rate=0.12, objective='multi:softmax', max_depth =6,silent=True, nthread=1,verbose=4)\n",
    "xgb2.fit(X_train, Y_train,eval_metric= 'merror')\n",
    "pred= xgb2.predict(X_test)\n",
    "f1_score(pred, Y_test, average='weighted')\n"
   ]
  },
  {
   "cell_type": "code",
   "execution_count": 25,
   "metadata": {
    "colab": {
     "base_uri": "https://localhost:8080/",
     "height": 88
    },
    "colab_type": "code",
    "executionInfo": {
     "elapsed": 848472,
     "status": "ok",
     "timestamp": 1539659484824,
     "user": {
      "displayName": "sanket kakade",
      "photoUrl": "",
      "userId": "11282238036054339420"
     },
     "user_tz": -330
    },
    "id": "NXUHhV3ul2ps",
    "outputId": "8f54d896-3a02-42c3-ecb2-64d24bd4b5db"
   },
   "outputs": [
    {
     "name": "stderr",
     "output_type": "stream",
     "text": [
      "C:\\Users\\Admin\\Anaconda2\\envs\\python36\\lib\\site-packages\\sklearn\\preprocessing\\label.py:151: DeprecationWarning: The truth value of an empty array is ambiguous. Returning False, but in future this will result in an error. Use `array.size > 0` to check that an array is not empty.\n",
      "  if diff:\n"
     ]
    },
    {
     "data": {
      "text/plain": [
       "0.7897979132733284"
      ]
     },
     "execution_count": 25,
     "metadata": {},
     "output_type": "execute_result"
    }
   ],
   "source": [
    "#Another instance of XgBoost classifier with tweaked hyperparameters. \n",
    "xgb3 = XGBClassifier(n_estimators=5000,min_child_weight= 1, learning_rate=0.5, objective='multi:softmax', max_depth =6,silent=True, nthread=1)\n",
    "xgb3.fit(X_train, Y_train,eval_metric= 'merror')\n",
    "pred= xgb3.predict(X_test)\n",
    "f1_score(pred, Y_test, average='weighted')\n"
   ]
  },
  {
   "cell_type": "code",
   "execution_count": 26,
   "metadata": {
    "colab": {
     "base_uri": "https://localhost:8080/",
     "height": 34
    },
    "colab_type": "code",
    "executionInfo": {
     "elapsed": 1339,
     "status": "ok",
     "timestamp": 1539658075397,
     "user": {
      "displayName": "sanket kakade",
      "photoUrl": "",
      "userId": "11282238036054339420"
     },
     "user_tz": -330
    },
    "id": "jjjwROIImtjo",
    "outputId": "ba01cb56-e46b-4c36-e2a6-47b2c9d8b198"
   },
   "outputs": [
    {
     "name": "stderr",
     "output_type": "stream",
     "text": [
      "C:\\Users\\Admin\\Anaconda2\\envs\\python36\\lib\\site-packages\\sklearn\\preprocessing\\label.py:151: DeprecationWarning: The truth value of an empty array is ambiguous. Returning False, but in future this will result in an error. Use `array.size > 0` to check that an array is not empty.\n",
      "  if diff:\n"
     ]
    },
    {
     "data": {
      "text/plain": [
       "0.7890774540216932"
      ]
     },
     "execution_count": 26,
     "metadata": {},
     "output_type": "execute_result"
    }
   ],
   "source": [
    "xgb4 = XGBClassifier(n_estimators=5000,min_child_weight= 1, learning_rate=0.5, objective='multi:softmax', max_depth =8,silent=True, nthread=1)\n",
    "xgb4.fit(X_train, Y_train,eval_metric= 'merror')\n",
    "pred= xgb4.predict(X_test)\n",
    "f1_score(pred, Y_test, average='weighted')\n",
    "\n"
   ]
  },
  {
   "cell_type": "code",
   "execution_count": 27,
   "metadata": {
    "colab": {
     "base_uri": "https://localhost:8080/",
     "height": 71
    },
    "colab_type": "code",
    "executionInfo": {
     "elapsed": 63415,
     "status": "ok",
     "timestamp": 1539659627033,
     "user": {
      "displayName": "sanket kakade",
      "photoUrl": "",
      "userId": "11282238036054339420"
     },
     "user_tz": -330
    },
    "id": "7YcsQPxts3rt",
    "outputId": "e76381c7-137d-4035-e284-4a41c96e7202"
   },
   "outputs": [
    {
     "name": "stderr",
     "output_type": "stream",
     "text": [
      "C:\\Users\\Admin\\Anaconda2\\envs\\python36\\lib\\site-packages\\sklearn\\preprocessing\\label.py:151: DeprecationWarning: The truth value of an empty array is ambiguous. Returning False, but in future this will result in an error. Use `array.size > 0` to check that an array is not empty.\n",
      "  if diff:\n",
      "[Parallel(n_jobs=1)]: Done 1000 out of 1000 | elapsed:  2.1min finished\n",
      "C:\\Users\\Admin\\Anaconda2\\envs\\python36\\lib\\site-packages\\sklearn\\preprocessing\\label.py:151: DeprecationWarning: The truth value of an empty array is ambiguous. Returning False, but in future this will result in an error. Use `array.size > 0` to check that an array is not empty.\n",
      "  if diff:\n"
     ]
    }
   ],
   "source": [
    "unseen_pred_xgb1= xgb.predict(df_test_pca)\n",
    "unseen_pred_rf= ran_for.predict(df_test_pca)\n",
    "unseen_pred_xgb3=xgb3.predict(df_test_pca)"
   ]
  },
  {
   "cell_type": "code",
   "execution_count": 29,
   "metadata": {
    "colab": {},
    "colab_type": "code",
    "id": "LHl2pBjbtPNf"
   },
   "outputs": [],
   "source": [
    "unseen_pred_df= pd.Series(unseen_pred_xgb1)\n",
    "unseen_pred_df = unseen_pred_df.map({1:'SINGLE FAMILY / DUPLEX',\n",
    "2:'COMMERCIAL',\n",
    "3:'INSTITUTIONAL',\n",
    "4:'MULTIFAMILY',\n",
    "5:'INDUSTRIAL'})\n",
    "unseen_pred_rf_df= pd.Series(unseen_pred_rf)\n",
    "unseen_pred_rf_df = unseen_pred_rf_df.map({1:'SINGLE FAMILY / DUPLEX',\n",
    "2:'COMMERCIAL',\n",
    "3:'INSTITUTIONAL',\n",
    "4:'MULTIFAMILY',\n",
    "5:'INDUSTRIAL'})\n",
    "unseen_pred_xgb3_df= pd.Series(unseen_pred_xgb3)\n",
    "unseen_pred_xgb3_df = unseen_pred_xgb3_df.map({1:'SINGLE FAMILY / DUPLEX',\n",
    "2:'COMMERCIAL',\n",
    "3:'INSTITUTIONAL',\n",
    "4:'MULTIFAMILY',\n",
    "5:'INDUSTRIAL'})\n"
   ]
  },
  {
   "cell_type": "markdown",
   "metadata": {
    "colab_type": "text",
    "id": "PZEoZl1L6cEW"
   },
   "source": [
    "These 3 results qualify as the best results as of now."
   ]
  },
  {
   "cell_type": "markdown",
   "metadata": {
    "colab_type": "text",
    "id": "agwIZdKg6t_g"
   },
   "source": [
    "### Thank you!"
   ]
  }
 ],
 "metadata": {
  "accelerator": "GPU",
  "colab": {
   "collapsed_sections": [],
   "name": "Untitled0_latest.ipynb",
   "provenance": [],
   "toc_visible": true,
   "version": "0.3.2"
  },
  "kernelspec": {
   "display_name": "Python 3",
   "language": "python",
   "name": "python3"
  },
  "language_info": {
   "codemirror_mode": {
    "name": "ipython",
    "version": 3
   },
   "file_extension": ".py",
   "mimetype": "text/x-python",
   "name": "python",
   "nbconvert_exporter": "python",
   "pygments_lexer": "ipython3",
   "version": "3.6.4"
  }
 },
 "nbformat": 4,
 "nbformat_minor": 1
}
